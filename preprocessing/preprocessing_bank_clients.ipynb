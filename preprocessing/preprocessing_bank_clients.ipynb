{
 "cells": [
  {
   "cell_type": "markdown",
   "id": "33fb447f-a773-4a67-b360-c1c094a8b947",
   "metadata": {},
   "source": [
    "<font color=green> **Входные данные от банка — статистика о платёжеспособности клиентов.**  \n",
    "Основная задача подготовить данные.  \n",
    "Дополнительная разобраться, влияет ли семейное положение и количество детей клиента на факт погашения кредита в срок."
   ]
  },
  {
   "cell_type": "markdown",
   "id": "cc173b31-debb-48e0-897c-bf42c42a1179",
   "metadata": {},
   "source": [
    "## Первичная информация о данных"
   ]
  },
  {
   "cell_type": "markdown",
   "id": "27c825e5-25fa-4e48-babd-c733fdcf8f8b",
   "metadata": {},
   "source": [
    "* **children** — количество детей в семье \n",
    "* **days_employed** — общий трудовой стаж в днях  \n",
    "* **dob_years** — возраст клиента в годах  \n",
    "* **education** — уровень образования клиента  \n",
    "* **education_id** — идентификатор уровня образования  \n",
    "* **family_status** — семейное положение  \n",
    "* **family_status_id** — идентификатор семейного положения  \n",
    "* **gender** — пол клиента  \n",
    "* **income_type** — тип занятости  \n",
    "* **debt** — имел ли задолженность по возврату кредитов  \n",
    "* **total_income** — ежемесячный доход  \n",
    "* **purpose** — цель получения кредита"
   ]
  },
  {
   "cell_type": "code",
   "execution_count": 7,
   "id": "a63ffa7e-1d85-4f6e-9299-5a19f5cb1efb",
   "metadata": {},
   "outputs": [],
   "source": [
    "import pandas as pd\n",
    "import numpy as np\n",
    "import matplotlib.pyplot as plt\n",
    "import seaborn as sns\n",
    "from pymystem3 import Mystem"
   ]
  },
  {
   "cell_type": "code",
   "execution_count": 11,
   "id": "64197f83-3cf2-49a0-b44a-4fbe085f1913",
   "metadata": {},
   "outputs": [],
   "source": [
    "df = pd.read_csv('data.csv')"
   ]
  },
  {
   "cell_type": "code",
   "execution_count": null,
   "id": "0536fd30-9d5d-45ec-af5f-5bf04bfad8ff",
   "metadata": {
    "scrolled": true
   },
   "outputs": [],
   "source": [
    "df.head()"
   ]
  },
  {
   "cell_type": "code",
   "execution_count": 4,
   "id": "9ef23277-d7de-457d-811e-0c5f15f421e1",
   "metadata": {},
   "outputs": [
    {
     "name": "stdout",
     "output_type": "stream",
     "text": [
      "<class 'pandas.core.frame.DataFrame'>\n",
      "RangeIndex: 21525 entries, 0 to 21524\n",
      "Data columns (total 12 columns):\n",
      " #   Column            Non-Null Count  Dtype  \n",
      "---  ------            --------------  -----  \n",
      " 0   children          21525 non-null  int64  \n",
      " 1   days_employed     19351 non-null  float64\n",
      " 2   dob_years         21525 non-null  int64  \n",
      " 3   education         21525 non-null  object \n",
      " 4   education_id      21525 non-null  int64  \n",
      " 5   family_status     21525 non-null  object \n",
      " 6   family_status_id  21525 non-null  int64  \n",
      " 7   gender            21525 non-null  object \n",
      " 8   income_type       21525 non-null  object \n",
      " 9   debt              21525 non-null  int64  \n",
      " 10  total_income      19351 non-null  float64\n",
      " 11  purpose           21525 non-null  object \n",
      "dtypes: float64(2), int64(5), object(5)\n",
      "memory usage: 2.0+ MB\n"
     ]
    }
   ],
   "source": [
    "df.info()"
   ]
  },
  {
   "cell_type": "markdown",
   "id": "a5796b26-7e8b-4b74-b353-b879f8131216",
   "metadata": {},
   "source": [
    "**Вывод**"
   ]
  },
  {
   "cell_type": "markdown",
   "id": "43e89f71-06f0-4ebd-9dc7-aca5a94608e1",
   "metadata": {},
   "source": [
    "_Взглянув на таблицу сразу отметим два столбца с одинаковым количеством пропусков, столбец со стажем(в днях) некоторые данные выгружены с \"-\", а у клиента с индексом 4 стаж 932 года. Так же в столбце с образованием видна проблема с регистром, цель приобретения кредита скорее всего вписывается вручную, нужно разделить их на категории._  \n",
    "_В любом случае нужно более подробно исследовать каждую переменную, даже если на первый взгляд ничего необычного не видно._  \n",
    "_Проверим таблицу на дубликаты._  \n",
    "_Стаж и ежемесячный доход сделаем целочислинными._"
   ]
  },
  {
   "cell_type": "markdown",
   "id": "aabeeb47-10a8-4d4f-b9b3-6aa92138f662",
   "metadata": {},
   "source": [
    "## **Предобработка**"
   ]
  },
  {
   "cell_type": "markdown",
   "id": "4b478136-02c5-4af2-8f40-1be27270cd94",
   "metadata": {},
   "source": [
    "### Данные о количестве детей"
   ]
  },
  {
   "cell_type": "code",
   "execution_count": 5,
   "id": "5824bf21-39ba-4f2d-b56e-111f6800fa25",
   "metadata": {},
   "outputs": [
    {
     "name": "stdout",
     "output_type": "stream",
     "text": [
      "children: 1 0 3 2 -1 4 20 5\n"
     ]
    }
   ],
   "source": [
    "print('children:', *df['children'].unique())"
   ]
  },
  {
   "cell_type": "code",
   "execution_count": 6,
   "id": "a5923e11-6ad2-4586-844e-54ea980880d3",
   "metadata": {},
   "outputs": [
    {
     "data": {
      "text/plain": [
       " 0     14149\n",
       " 1      4818\n",
       " 2      2055\n",
       " 3       330\n",
       " 20       76\n",
       "-1        47\n",
       " 4        41\n",
       " 5         9\n",
       "Name: children, dtype: int64"
      ]
     },
     "execution_count": 6,
     "metadata": {},
     "output_type": "execute_result"
    }
   ],
   "source": [
    "df['children'].value_counts()"
   ]
  },
  {
   "cell_type": "markdown",
   "id": "9f3c6a7a-6860-48b4-93c5-8edadfa133de",
   "metadata": {},
   "source": [
    "_Аномальными являются \"-1\" и \"20\"_"
   ]
  },
  {
   "cell_type": "markdown",
   "id": "6166be70-64f3-4b69-9ec5-b90db56ac36b",
   "metadata": {},
   "source": [
    "_Есть предположение, что вместо \"20\" хотели ввести \"2\", вместо \"-1\" \"1\"_  \n",
    "_Взгляним с каким признаком в таблице лучше коррелирует количество детей_"
   ]
  },
  {
   "cell_type": "code",
   "execution_count": 7,
   "id": "8b0d05a9-629b-4e02-b3f4-4006ee522158",
   "metadata": {},
   "outputs": [
    {
     "data": {
      "text/plain": [
       "children            1.00\n",
       "days_employed      -0.24\n",
       "dob_years          -0.31\n",
       "education_id       -0.03\n",
       "family_status_id   -0.16\n",
       "debt                0.02\n",
       "total_income        0.03\n",
       "Name: children, dtype: float64"
      ]
     },
     "execution_count": 7,
     "metadata": {},
     "output_type": "execute_result"
    }
   ],
   "source": [
    "df[(df['children'] != -1) & (df['children'] != 20)].corr().round(2)['children'] # корреляция столбца \"children\" с остальными"
   ]
  },
  {
   "cell_type": "markdown",
   "id": "06563348-a5ae-46d8-ab4a-2c49c1885fcd",
   "metadata": {},
   "source": [
    "_Смотреть будем разброс количества детей по возрасту и сравнивать их между собой_"
   ]
  },
  {
   "cell_type": "code",
   "execution_count": 8,
   "id": "cabba021-70b1-46c2-9be2-ccc409ce91b8",
   "metadata": {
    "scrolled": true
   },
   "outputs": [
    {
     "data": {
      "text/plain": [
       "<AxesSubplot:xlabel='children', ylabel='dob_years'>"
      ]
     },
     "execution_count": 8,
     "metadata": {},
     "output_type": "execute_result"
    },
    {
     "data": {
      "image/png": "[encoded data removed]",
      "text/plain": [
       "<Figure size 700x400 with 1 Axes>"
      ]
     },
     "metadata": {},
     "output_type": "display_data"
    }
   ],
   "source": [
    "fig = plt.subplots(figsize=(7, 4))\n",
    "sns.boxplot(data=df, x='children', y='dob_years')"
   ]
  },
  {
   "cell_type": "markdown",
   "id": "f8723232",
   "metadata": {},
   "source": [
    "_Категории \"20\" и \"-1\" не похожи ни на одну отдельную группу, зато похожи между собой. Предположим, что обе ошибки распределены случайно по выборке_  \n",
    "_Проверим это предположение_"
   ]
  },
  {
   "cell_type": "code",
   "execution_count": 9,
   "id": "823b47b4-6e94-492c-994c-30962891c1da",
   "metadata": {
    "scrolled": true
   },
   "outputs": [
    {
     "data": {
      "text/plain": [
       "<AxesSubplot:xlabel='children', ylabel='dob_years'>"
      ]
     },
     "execution_count": 9,
     "metadata": {},
     "output_type": "execute_result"
    },
    {
     "data": {
      "image/png": "[encoded data removed]",
      "text/plain": [
       "<Figure size 700x400 with 1 Axes>"
      ]
     },
     "metadata": {},
     "output_type": "display_data"
    }
   ],
   "source": [
    "df_children_norm = df.copy()\n",
    "df_children_norm['children'] = df_children_norm['children'].map(lambda x: 12345 if x in (0, 1, 2, 3, 4, 5) else x) # в столбце \"children\" объеденим \n",
    "                                                                                                                   # категории(0,1,2,3,4,5) в одну\n",
    "\n",
    "fig = plt.subplots(figsize=(7, 4))\n",
    "sns.boxplot(data=df_children_norm, x='children', y='dob_years')"
   ]
  },
  {
   "cell_type": "markdown",
   "id": "5b246917-f1db-4263-a684-cfb3515ff280",
   "metadata": {},
   "source": [
    "_Предположение не подтвердилось т.к. боксплоты \"20\" и \"-1\" больше всего похожи на боксплот всей остальной выборки, значит ошибка скорее всего распределена равномерно по разному количеству детей_  \n",
    "_Решено удалить строки с данной ошибкой т.к. они составляют менее 0,6% от всех данных_"
   ]
  },
  {
   "cell_type": "code",
   "execution_count": 10,
   "id": "3735fef2-d5d3-42ec-937a-8086d83f523f",
   "metadata": {},
   "outputs": [],
   "source": [
    "df = df.query('children != 20 and children != -1')"
   ]
  },
  {
   "cell_type": "markdown",
   "id": "1addf199-bb02-419a-a016-4c4b212ef3fb",
   "metadata": {},
   "source": [
    "### Исправление аномальных значений в стаже"
   ]
  },
  {
   "cell_type": "code",
   "execution_count": 11,
   "id": "e6e4e2d9-68dc-46e6-a159-1106d07a2239",
   "metadata": {},
   "outputs": [
    {
     "data": {
      "text/plain": [
       "<AxesSubplot:xlabel='days_employed', ylabel='Count'>"
      ]
     },
     "execution_count": 11,
     "metadata": {},
     "output_type": "execute_result"
    },
    {
     "data": {
      "image/png": "[encoded data removed]",
      "text/plain": [
       "<Figure size 1000x400 with 2 Axes>"
      ]
     },
     "metadata": {},
     "output_type": "display_data"
    }
   ],
   "source": [
    "fig, ax = plt.subplots(1, 2, figsize=(10, 4))\n",
    "sns.histplot(df[df['days_employed'] < 0], x='days_employed', ax=ax[0])\n",
    "sns.histplot(df[df['days_employed'] > 0], x='days_employed', ax=ax[1])"
   ]
  },
  {
   "cell_type": "markdown",
   "id": "a23327f8-d809-4d34-b306-3ea34086966d",
   "metadata": {},
   "source": [
    "_Большинство данных о трудовом стаже выгружены со знаком \"-\", а еще часть не в днях, а в возможно в часах_"
   ]
  },
  {
   "cell_type": "code",
   "execution_count": 12,
   "id": "96137e8d-737d-436f-b1ce-d1e0b9d5b1c7",
   "metadata": {},
   "outputs": [
    {
     "name": "stdout",
     "output_type": "stream",
     "text": [
      "13697   16740\n"
     ]
    }
   ],
   "source": [
    "print(round(df[df['days_employed'] > 0]['days_employed'].min() / 24), round(df[df['days_employed'] > 0]['days_employed'].max() / 24), sep='   ') "
   ]
  },
  {
   "cell_type": "markdown",
   "id": "84ac1e4f-3b09-4545-968f-196812324cd9",
   "metadata": {},
   "source": [
    "_Минимальное и максимальное значения трудового стажа, который предположительно был выгружен в часах, а не в днях_  \n",
    "_Взглянем на то зависит ли наш аномальный трудовой стаж от типа занятости_"
   ]
  },
  {
   "cell_type": "code",
   "execution_count": 13,
   "id": "605559bc-77ef-4772-a229-e4a11f7fb1d6",
   "metadata": {
    "scrolled": true
   },
   "outputs": [
    {
     "data": {
      "text/plain": [
       "пенсионер      3429\n",
       "безработный       2\n",
       "Name: income_type, dtype: int64"
      ]
     },
     "execution_count": 13,
     "metadata": {},
     "output_type": "execute_result"
    }
   ],
   "source": [
    "df[df['days_employed'] > 0]['income_type'].value_counts()"
   ]
  },
  {
   "cell_type": "markdown",
   "id": "4c99d22c-eb0a-40ff-9725-e658a90b8b47",
   "metadata": {},
   "source": [
    "_Почти все с большим трудовым стажем пенсионеры, принимаем предположение о выгрузке части данных в часах_"
   ]
  },
  {
   "cell_type": "code",
   "execution_count": 14,
   "id": "92a0a6f2-bd02-45a3-93b7-9ac08e18bafe",
   "metadata": {},
   "outputs": [],
   "source": [
    "df['days_employed'] = df['days_employed'].apply(lambda x: x / 24 if x > 0 else x * (-1)) # одной функцией перевели стаж в дни и\n",
    "                                                                                         # сделали его положительным"
   ]
  },
  {
   "cell_type": "markdown",
   "id": "1aec7f6a-269b-4b5b-82bb-632aedfcab27",
   "metadata": {},
   "source": [
    "### Исправление нулевых значений возраста"
   ]
  },
  {
   "cell_type": "markdown",
   "id": "e8758736-e4e5-4713-a8f0-4ce809a26a6d",
   "metadata": {},
   "source": [
    "_Зададим диапазон в котором будем считать значение возраста неподходящим - то есть ошибкой или неправильно выгруженными данными_"
   ]
  },
  {
   "cell_type": "code",
   "execution_count": 15,
   "id": "8f50b006-d275-4b51-ab9e-4bad32d57d48",
   "metadata": {},
   "outputs": [
    {
     "name": "stdout",
     "output_type": "stream",
     "text": [
      "Болше 95 лет 0 клиентов и меньше 18 лет 100 клиентов\n"
     ]
    }
   ],
   "source": [
    "print(f\"Болше 95 лет {(df['dob_years'] > 95).sum()} клиентов и меньше 18 лет {(df['dob_years'] < 18).sum()} клиентов\")"
   ]
  },
  {
   "cell_type": "code",
   "execution_count": 16,
   "id": "712d4491-892f-413f-a5ec-c69945085af7",
   "metadata": {},
   "outputs": [
    {
     "data": {
      "text/html": [
       "<div>\n",
       "<style scoped>\n",
       "    .dataframe tbody tr th:only-of-type {\n",
       "        vertical-align: middle;\n",
       "    }\n",
       "\n",
       "    .dataframe tbody tr th {\n",
       "        vertical-align: top;\n",
       "    }\n",
       "\n",
       "    .dataframe thead th {\n",
       "        text-align: right;\n",
       "    }\n",
       "</style>\n",
       "<table border=\"1\" class=\"dataframe\">\n",
       "  <thead>\n",
       "    <tr style=\"text-align: right;\">\n",
       "      <th></th>\n",
       "      <th>days_employed</th>\n",
       "      <th>dob_years</th>\n",
       "    </tr>\n",
       "  </thead>\n",
       "  <tbody>\n",
       "    <tr>\n",
       "      <th>days_employed</th>\n",
       "      <td>1.000000</td>\n",
       "      <td>0.634582</td>\n",
       "    </tr>\n",
       "    <tr>\n",
       "      <th>dob_years</th>\n",
       "      <td>0.634582</td>\n",
       "      <td>1.000000</td>\n",
       "    </tr>\n",
       "  </tbody>\n",
       "</table>\n",
       "</div>"
      ],
      "text/plain": [
       "               days_employed  dob_years\n",
       "days_employed       1.000000   0.634582\n",
       "dob_years           0.634582   1.000000"
      ]
     },
     "execution_count": 16,
     "metadata": {},
     "output_type": "execute_result"
    }
   ],
   "source": [
    "df[['days_employed', 'dob_years']].corr()"
   ]
  },
  {
   "cell_type": "markdown",
   "id": "ce27aaf5-d5e6-4641-8da2-8c1a36aa8915",
   "metadata": {},
   "source": [
    "_Между трудовым стажем и возрастом есть прямая связь, воспользуемся этим фактом исправляя \"0\" возраст и заполняя пропуски в трудовам стаже_    \n",
    "_Заполним \"0\" возраст на 20лет(предположительно в этом возрасте начинают работать) + days_employed(в годах)_"
   ]
  },
  {
   "cell_type": "code",
   "execution_count": 17,
   "id": "5f3f642a-a4ab-41b7-a41e-abb77b5f63d5",
   "metadata": {},
   "outputs": [],
   "source": [
    "def format_years(row):             # функция изменения \"0\" в столбце возраста для у кого имеется стаж\n",
    "    if not(np.isnan(row['days_employed'])) and row['dob_years'] == 0:\n",
    "        row['dob_years'] = row['days_employed'] / 365 + 20\n",
    "    return row\n",
    "df = df.apply(format_years, axis=1)"
   ]
  },
  {
   "cell_type": "code",
   "execution_count": 18,
   "id": "95e9fe8a-7b5e-4a21-b23e-65c83121bf04",
   "metadata": {},
   "outputs": [
    {
     "data": {
      "text/html": [
       "<div>\n",
       "<style scoped>\n",
       "    .dataframe tbody tr th:only-of-type {\n",
       "        vertical-align: middle;\n",
       "    }\n",
       "\n",
       "    .dataframe tbody tr th {\n",
       "        vertical-align: top;\n",
       "    }\n",
       "\n",
       "    .dataframe thead th {\n",
       "        text-align: right;\n",
       "    }\n",
       "</style>\n",
       "<table border=\"1\" class=\"dataframe\">\n",
       "  <thead>\n",
       "    <tr style=\"text-align: right;\">\n",
       "      <th></th>\n",
       "      <th>days_employed</th>\n",
       "      <th>dob_years</th>\n",
       "      <th>total_income</th>\n",
       "    </tr>\n",
       "  </thead>\n",
       "  <tbody>\n",
       "    <tr>\n",
       "      <th>1890</th>\n",
       "      <td>NaN</td>\n",
       "      <td>0.0</td>\n",
       "      <td>NaN</td>\n",
       "    </tr>\n",
       "    <tr>\n",
       "      <th>2284</th>\n",
       "      <td>NaN</td>\n",
       "      <td>0.0</td>\n",
       "      <td>NaN</td>\n",
       "    </tr>\n",
       "    <tr>\n",
       "      <th>4064</th>\n",
       "      <td>NaN</td>\n",
       "      <td>0.0</td>\n",
       "      <td>NaN</td>\n",
       "    </tr>\n",
       "    <tr>\n",
       "      <th>5014</th>\n",
       "      <td>NaN</td>\n",
       "      <td>0.0</td>\n",
       "      <td>NaN</td>\n",
       "    </tr>\n",
       "    <tr>\n",
       "      <th>6411</th>\n",
       "      <td>NaN</td>\n",
       "      <td>0.0</td>\n",
       "      <td>NaN</td>\n",
       "    </tr>\n",
       "    <tr>\n",
       "      <th>6670</th>\n",
       "      <td>NaN</td>\n",
       "      <td>0.0</td>\n",
       "      <td>NaN</td>\n",
       "    </tr>\n",
       "    <tr>\n",
       "      <th>8574</th>\n",
       "      <td>NaN</td>\n",
       "      <td>0.0</td>\n",
       "      <td>NaN</td>\n",
       "    </tr>\n",
       "    <tr>\n",
       "      <th>12403</th>\n",
       "      <td>NaN</td>\n",
       "      <td>0.0</td>\n",
       "      <td>NaN</td>\n",
       "    </tr>\n",
       "    <tr>\n",
       "      <th>13741</th>\n",
       "      <td>NaN</td>\n",
       "      <td>0.0</td>\n",
       "      <td>NaN</td>\n",
       "    </tr>\n",
       "    <tr>\n",
       "      <th>19829</th>\n",
       "      <td>NaN</td>\n",
       "      <td>0.0</td>\n",
       "      <td>NaN</td>\n",
       "    </tr>\n",
       "  </tbody>\n",
       "</table>\n",
       "</div>"
      ],
      "text/plain": [
       "       days_employed  dob_years  total_income\n",
       "1890             NaN        0.0           NaN\n",
       "2284             NaN        0.0           NaN\n",
       "4064             NaN        0.0           NaN\n",
       "5014             NaN        0.0           NaN\n",
       "6411             NaN        0.0           NaN\n",
       "6670             NaN        0.0           NaN\n",
       "8574             NaN        0.0           NaN\n",
       "12403            NaN        0.0           NaN\n",
       "13741            NaN        0.0           NaN\n",
       "19829            NaN        0.0           NaN"
      ]
     },
     "execution_count": 18,
     "metadata": {},
     "output_type": "execute_result"
    }
   ],
   "source": [
    "df.loc[df['dob_years'] == 0, ['days_employed', 'dob_years', 'total_income']]"
   ]
  },
  {
   "cell_type": "markdown",
   "id": "f964032a-6c5e-4aaf-aa7e-8f3b75761bfa",
   "metadata": {},
   "source": [
    "_В данных 10 клиентов не определен ни стаж? ни возраст, ни ежемесячный доход, их количество невелико, поэтому решил исключить их из данных_ "
   ]
  },
  {
   "cell_type": "code",
   "execution_count": 19,
   "id": "55ae6a6f-9bd3-41af-ae1e-6291e76fb89e",
   "metadata": {},
   "outputs": [],
   "source": [
    "df = df.query('dob_years > 0')"
   ]
  },
  {
   "cell_type": "markdown",
   "id": "e480902b-8761-477d-8bc4-fbc65a889ff3",
   "metadata": {},
   "source": [
    "### Пропуски в стаже"
   ]
  },
  {
   "cell_type": "markdown",
   "id": "f4f599fc-dfed-46db-a451-1b724f1b8d71",
   "metadata": {},
   "source": [
    "_Заполним пропущенные значения в \"days_employed\"(стаже), отталкиваясь от возраста клиента, с учетом что , большинство людей начинают работать в 20 лет_"
   ]
  },
  {
   "cell_type": "code",
   "execution_count": 20,
   "id": "a93ff220-c348-4d0e-b1b0-0b6e2b4d0878",
   "metadata": {},
   "outputs": [],
   "source": [
    "df['days_employed'] = df['days_employed'].fillna((df['dob_years'] - 20) * 365)"
   ]
  },
  {
   "cell_type": "code",
   "execution_count": 21,
   "id": "f31ef81c-e2fb-4e77-8fcc-f379fe430cb8",
   "metadata": {},
   "outputs": [
    {
     "data": {
      "text/plain": [
       "5"
      ]
     },
     "execution_count": 21,
     "metadata": {},
     "output_type": "execute_result"
    }
   ],
   "source": [
    "(df['days_employed'] == 0).sum()"
   ]
  },
  {
   "cell_type": "markdown",
   "id": "8149d8bc-fe90-4f2e-a121-b1a009912d70",
   "metadata": {},
   "source": [
    "_Есть 1 отрицательное число, значит в строке со стажем \"NaN\" у одного клиента возраст меньше 20, сделаем его стаж 0_"
   ]
  },
  {
   "cell_type": "code",
   "execution_count": 22,
   "id": "def91e5c-607c-4a6c-a9f1-55f7ff068ae3",
   "metadata": {},
   "outputs": [],
   "source": [
    "df.loc[df['days_employed'] < 0, 'days_employed'] = 0"
   ]
  },
  {
   "cell_type": "markdown",
   "id": "cef5c83f-a24e-42d6-b029-13d172d997e2",
   "metadata": {},
   "source": [
    "### Пропуски в доходе"
   ]
  },
  {
   "cell_type": "code",
   "execution_count": 23,
   "id": "4a413f3a-fe64-431a-884d-d293ffe739e2",
   "metadata": {},
   "outputs": [
    {
     "data": {
      "text/plain": [
       "2152"
      ]
     },
     "execution_count": 23,
     "metadata": {},
     "output_type": "execute_result"
    }
   ],
   "source": [
    "df['total_income'].isna().sum()"
   ]
  },
  {
   "cell_type": "markdown",
   "id": "c69653e2-09e3-4321-b74c-22093b3ecab9",
   "metadata": {},
   "source": [
    "_Заполним пропуски медианным значением, сгруппированным по типу занятости и образованию_"
   ]
  },
  {
   "cell_type": "code",
   "execution_count": 24,
   "id": "94310176-21ea-4bd2-8f8e-9903d22cafe3",
   "metadata": {},
   "outputs": [],
   "source": [
    "df['total_income'] = df.groupby(['income_type', 'education_id'])['total_income'].apply(lambda x: x.fillna(x.median()))"
   ]
  },
  {
   "cell_type": "markdown",
   "id": "d2ee98c8-0dfc-4d32-bdcc-2b9142a07923",
   "metadata": {},
   "source": [
    "### Исправление регистра в образовании"
   ]
  },
  {
   "cell_type": "code",
   "execution_count": 25,
   "id": "e1eef5fd-fd7b-4e50-b271-4b0f4cda3433",
   "metadata": {},
   "outputs": [
    {
     "name": "stdout",
     "output_type": "stream",
     "text": [
      "education:, высшее, среднее, Среднее, СРЕДНЕЕ, ВЫСШЕЕ, неоконченное высшее, начальное, Высшее, НЕОКОНЧЕННОЕ ВЫСШЕЕ, Неоконченное высшее, НАЧАЛЬНОЕ, Начальное, Ученая степень, УЧЕНАЯ СТЕПЕНЬ, ученая степень\n"
     ]
    }
   ],
   "source": [
    "print('education:', *df['education'].unique(), sep=', ')"
   ]
  },
  {
   "cell_type": "code",
   "execution_count": 26,
   "id": "c5e90ece-7f3a-4790-aa57-06a2aa585b60",
   "metadata": {},
   "outputs": [
    {
     "name": "stdout",
     "output_type": "stream",
     "text": [
      "education_id:, 0, 1, 2, 3, 4\n"
     ]
    }
   ],
   "source": [
    "print('education_id:', *df['education_id'].unique(), sep=', ')"
   ]
  },
  {
   "cell_type": "markdown",
   "id": "77d9854a-a6d3-4d79-85f5-13275637a8cd",
   "metadata": {},
   "source": [
    "_Приведем к нижнему регистру **education**_"
   ]
  },
  {
   "cell_type": "code",
   "execution_count": 27,
   "id": "4c76e11d-ae6f-4abf-b186-1fdef88dbbdb",
   "metadata": {},
   "outputs": [],
   "source": [
    "df['education'] = df['education'].str.lower()"
   ]
  },
  {
   "cell_type": "markdown",
   "id": "5efbb6f3-ed78-45d4-80f5-7e11ca62a327",
   "metadata": {},
   "source": [
    "_Проверим на соответствие столбцы_ **education** _и_ **education_id**"
   ]
  },
  {
   "cell_type": "code",
   "execution_count": 28,
   "id": "2e0b867a-6c23-46e3-ba9f-3b689bd51a4d",
   "metadata": {},
   "outputs": [
    {
     "data": {
      "text/html": [
       "<div>\n",
       "<style scoped>\n",
       "    .dataframe tbody tr th:only-of-type {\n",
       "        vertical-align: middle;\n",
       "    }\n",
       "\n",
       "    .dataframe tbody tr th {\n",
       "        vertical-align: top;\n",
       "    }\n",
       "\n",
       "    .dataframe thead th {\n",
       "        text-align: right;\n",
       "    }\n",
       "</style>\n",
       "<table border=\"1\" class=\"dataframe\">\n",
       "  <thead>\n",
       "    <tr style=\"text-align: right;\">\n",
       "      <th></th>\n",
       "      <th>education</th>\n",
       "      <th>education_id</th>\n",
       "    </tr>\n",
       "  </thead>\n",
       "  <tbody>\n",
       "    <tr>\n",
       "      <th>0</th>\n",
       "      <td>высшее</td>\n",
       "      <td>0</td>\n",
       "    </tr>\n",
       "    <tr>\n",
       "      <th>1</th>\n",
       "      <td>среднее</td>\n",
       "      <td>1</td>\n",
       "    </tr>\n",
       "    <tr>\n",
       "      <th>13</th>\n",
       "      <td>неоконченное высшее</td>\n",
       "      <td>2</td>\n",
       "    </tr>\n",
       "    <tr>\n",
       "      <th>31</th>\n",
       "      <td>начальное</td>\n",
       "      <td>3</td>\n",
       "    </tr>\n",
       "    <tr>\n",
       "      <th>2963</th>\n",
       "      <td>ученая степень</td>\n",
       "      <td>4</td>\n",
       "    </tr>\n",
       "  </tbody>\n",
       "</table>\n",
       "</div>"
      ],
      "text/plain": [
       "                education  education_id\n",
       "0                  высшее             0\n",
       "1                 среднее             1\n",
       "13    неоконченное высшее             2\n",
       "31              начальное             3\n",
       "2963       ученая степень             4"
      ]
     },
     "execution_count": 28,
     "metadata": {},
     "output_type": "execute_result"
    }
   ],
   "source": [
    "df[['education', 'education_id']].drop_duplicates()"
   ]
  },
  {
   "cell_type": "markdown",
   "id": "3cca9f42-c0ab-49cd-a71e-4f652c2a5088",
   "metadata": {},
   "source": [
    "### Семейное положение"
   ]
  },
  {
   "cell_type": "code",
   "execution_count": 29,
   "id": "b42e9584-7684-4c74-bcf7-21d4715289db",
   "metadata": {},
   "outputs": [
    {
     "name": "stdout",
     "output_type": "stream",
     "text": [
      "family_status:, женат / замужем, гражданский брак, вдовец / вдова, в разводе, Не женат / не замужем\n"
     ]
    }
   ],
   "source": [
    "print('family_status:', *df['family_status'].unique(), sep=', ')"
   ]
  },
  {
   "cell_type": "code",
   "execution_count": 30,
   "id": "ffc729c5-aeda-44e3-887f-e3d5664a980b",
   "metadata": {},
   "outputs": [
    {
     "name": "stdout",
     "output_type": "stream",
     "text": [
      "family_status_id:, 0, 1, 2, 3, 4\n"
     ]
    }
   ],
   "source": [
    "print('family_status_id:', *df['family_status_id'].unique(), sep=', ')"
   ]
  },
  {
   "cell_type": "markdown",
   "id": "edf13a64-e180-49a5-9227-c021f4b9a1d6",
   "metadata": {},
   "source": [
    "_Проверим на соответствие столбцы_ **family_status** _столбцам_ **family_status_id**"
   ]
  },
  {
   "cell_type": "code",
   "execution_count": 31,
   "id": "d70089e3-89be-4a4d-bbb6-383151d10375",
   "metadata": {
    "scrolled": true
   },
   "outputs": [
    {
     "data": {
      "text/html": [
       "<div>\n",
       "<style scoped>\n",
       "    .dataframe tbody tr th:only-of-type {\n",
       "        vertical-align: middle;\n",
       "    }\n",
       "\n",
       "    .dataframe tbody tr th {\n",
       "        vertical-align: top;\n",
       "    }\n",
       "\n",
       "    .dataframe thead th {\n",
       "        text-align: right;\n",
       "    }\n",
       "</style>\n",
       "<table border=\"1\" class=\"dataframe\">\n",
       "  <thead>\n",
       "    <tr style=\"text-align: right;\">\n",
       "      <th></th>\n",
       "      <th>family_status</th>\n",
       "      <th>family_status_id</th>\n",
       "    </tr>\n",
       "  </thead>\n",
       "  <tbody>\n",
       "    <tr>\n",
       "      <th>0</th>\n",
       "      <td>женат / замужем</td>\n",
       "      <td>0</td>\n",
       "    </tr>\n",
       "    <tr>\n",
       "      <th>4</th>\n",
       "      <td>гражданский брак</td>\n",
       "      <td>1</td>\n",
       "    </tr>\n",
       "    <tr>\n",
       "      <th>18</th>\n",
       "      <td>вдовец / вдова</td>\n",
       "      <td>2</td>\n",
       "    </tr>\n",
       "    <tr>\n",
       "      <th>19</th>\n",
       "      <td>в разводе</td>\n",
       "      <td>3</td>\n",
       "    </tr>\n",
       "    <tr>\n",
       "      <th>24</th>\n",
       "      <td>Не женат / не замужем</td>\n",
       "      <td>4</td>\n",
       "    </tr>\n",
       "  </tbody>\n",
       "</table>\n",
       "</div>"
      ],
      "text/plain": [
       "            family_status  family_status_id\n",
       "0         женат / замужем                 0\n",
       "4        гражданский брак                 1\n",
       "18         вдовец / вдова                 2\n",
       "19              в разводе                 3\n",
       "24  Не женат / не замужем                 4"
      ]
     },
     "execution_count": 31,
     "metadata": {},
     "output_type": "execute_result"
    }
   ],
   "source": [
    "df[['family_status', 'family_status_id']].drop_duplicates()"
   ]
  },
  {
   "cell_type": "markdown",
   "id": "4e6912b4-510e-4f82-8a9d-adf4b23db2e5",
   "metadata": {},
   "source": [
    "### Пол клиента"
   ]
  },
  {
   "cell_type": "code",
   "execution_count": 32,
   "id": "33bdfcde-2780-4cbe-b734-d5da1d1523f1",
   "metadata": {},
   "outputs": [
    {
     "data": {
      "text/plain": [
       "F      14146\n",
       "M       7245\n",
       "XNA        1\n",
       "Name: gender, dtype: int64"
      ]
     },
     "execution_count": 32,
     "metadata": {},
     "output_type": "execute_result"
    }
   ],
   "source": [
    "df['gender'].value_counts()"
   ]
  },
  {
   "cell_type": "markdown",
   "id": "1590d0f9-ff05-43c4-8ea7-c3728ebc29f2",
   "metadata": {},
   "source": [
    "_Удаляем XNA_"
   ]
  },
  {
   "cell_type": "code",
   "execution_count": 33,
   "id": "52cc5848-060f-4a84-bbc1-eae2c21e5a86",
   "metadata": {},
   "outputs": [],
   "source": [
    "df = df[df['gender'] != 'XNA']"
   ]
  },
  {
   "cell_type": "markdown",
   "id": "9ce91fc9-64cc-4768-b427-1f7fed40cdc6",
   "metadata": {},
   "source": [
    "### Тип занятости"
   ]
  },
  {
   "cell_type": "code",
   "execution_count": 34,
   "id": "2a0d4001-6f44-4564-bff9-ca0bb6813e54",
   "metadata": {},
   "outputs": [
    {
     "name": "stdout",
     "output_type": "stream",
     "text": [
      "income_type:, сотрудник, пенсионер, компаньон, госслужащий, безработный, предприниматель, студент, в декрете\n"
     ]
    }
   ],
   "source": [
    "print('income_type:', *df['income_type'].unique(), sep=', ')"
   ]
  },
  {
   "cell_type": "code",
   "execution_count": 35,
   "id": "97a70ac5-7556-4ab1-baf3-cb7c397a1b10",
   "metadata": {},
   "outputs": [
    {
     "data": {
      "text/plain": [
       "сотрудник          11045\n",
       "компаньон           5051\n",
       "пенсионер           3836\n",
       "госслужащий         1453\n",
       "предприниматель        2\n",
       "безработный            2\n",
       "в декрете              1\n",
       "студент                1\n",
       "Name: income_type, dtype: int64"
      ]
     },
     "execution_count": 35,
     "metadata": {},
     "output_type": "execute_result"
    }
   ],
   "source": [
    "df['income_type'].value_counts()"
   ]
  },
  {
   "cell_type": "markdown",
   "id": "31d61feb-706b-454e-bf44-2bf435ef8768",
   "metadata": {},
   "source": [
    "### Задолженность по кредитам"
   ]
  },
  {
   "cell_type": "code",
   "execution_count": 36,
   "id": "b64fb90c-a629-4afc-b91e-e79f06082fce",
   "metadata": {},
   "outputs": [
    {
     "name": "stdout",
     "output_type": "stream",
     "text": [
      "debt:, 0, 1\n"
     ]
    }
   ],
   "source": [
    "print('debt:', *df['debt'].unique(), sep=', ')"
   ]
  },
  {
   "cell_type": "markdown",
   "id": "7aff3df1-3cfc-4180-bad3-d1d5e9d58735",
   "metadata": {},
   "source": [
    "### Обработка дубликатов"
   ]
  },
  {
   "cell_type": "code",
   "execution_count": 37,
   "id": "8e0c2678-fc62-44bd-8bbf-73aaafb801be",
   "metadata": {},
   "outputs": [
    {
     "data": {
      "text/plain": [
       "71"
      ]
     },
     "execution_count": 37,
     "metadata": {},
     "output_type": "execute_result"
    }
   ],
   "source": [
    "df.duplicated().sum()"
   ]
  },
  {
   "cell_type": "code",
   "execution_count": 38,
   "id": "5859fe88-1143-4311-8a1f-14cf01f73274",
   "metadata": {},
   "outputs": [],
   "source": [
    "df = df.drop_duplicates().reset_index(drop=True)"
   ]
  },
  {
   "cell_type": "markdown",
   "id": "13df6b12-09c8-4f8b-9d33-95d73b15c9c2",
   "metadata": {},
   "source": [
    "### Категоризация целей кредита"
   ]
  },
  {
   "cell_type": "code",
   "execution_count": 39,
   "id": "0a9f236c-22e6-401c-8fe7-1cc086de8303",
   "metadata": {
    "scrolled": true
   },
   "outputs": [
    {
     "name": "stdout",
     "output_type": "stream",
     "text": [
      "покупка жилья, приобретение автомобиля, дополнительное образование, сыграть свадьбу, операции с жильем, образование, на проведение свадьбы, покупка жилья для семьи, покупка недвижимости, покупка коммерческой недвижимости, покупка жилой недвижимости, строительство собственной недвижимости, недвижимость, строительство недвижимости, на покупку подержанного автомобиля, на покупку своего автомобиля, операции с коммерческой недвижимостью, строительство жилой недвижимости, жилье, операции со своей недвижимостью, автомобили, заняться образованием, сделка с подержанным автомобилем, получение образования, автомобиль, свадьба, получение дополнительного образования, покупка своего жилья, операции с недвижимостью, получение высшего образования, свой автомобиль, сделка с автомобилем, профильное образование, высшее образование, покупка жилья для сдачи, на покупку автомобиля, ремонт жилью, заняться высшим образованием\n",
      "\n",
      "число категорий 38\n"
     ]
    }
   ],
   "source": [
    "print(*df['purpose'].unique(), sep=', ', end='\\n\\n')\n",
    "print(f\"число категорий {len(df['purpose'].unique())}\")"
   ]
  },
  {
   "cell_type": "markdown",
   "id": "b6b4955e-eda3-4d42-ae00-7d963e57b208",
   "metadata": {},
   "source": [
    "_Выделяются только 4 категории, недвижимость, автомобиль, образование, свадьба, но записаны как 38. С помощью функции выделим из каждой записи леммы каждого слова и приведем к одному из 4 вариантовю._"
   ]
  },
  {
   "cell_type": "code",
   "execution_count": 40,
   "id": "cbc547b2-26ea-4c18-ab32-af3010f46572",
   "metadata": {},
   "outputs": [],
   "source": [
    "m = Mystem()"
   ]
  },
  {
   "cell_type": "code",
   "execution_count": 41,
   "id": "b3e8648d-c67c-4baa-b4b7-e2a42f1fe5f8",
   "metadata": {},
   "outputs": [],
   "source": [
    "def purpose_standart(purpose):    #функция преведения к стандартной записи цели кредита их 4\n",
    "    lem=m.lemmatize(purpose)                                                               # 'операции с автомобилем'\n",
    "    if ('недвижимость' in lem) or ('жилье' in lem):                                        \n",
    "        return 'операции с недвижимостью'                                                  #'операции с недвижимостью'\n",
    "    elif 'автомобиль' in lem:\n",
    "        return 'операции с автомобилем'                                                    #'операции с автомобилем'\n",
    "    elif 'образование' in lem:\n",
    "        return 'получение образования'                                                     #'получение образования'\n",
    "    elif 'свадьба' in lem:                \n",
    "        return 'проведение свадьбы'                                                        #'проведение свадьбы'\n",
    "    else:\n",
    "        return s"
   ]
  },
  {
   "cell_type": "markdown",
   "id": "2b7b311d-fc5b-4278-a829-3025134eba20",
   "metadata": {},
   "source": [
    "_Записи во всей таблице будут непозволительно долго лемматизироваться, поэтому создадим словарь с 38 ключами(сырые категории) и 4 значениями(приведенные категории). Изменим столбец обращаясь к словарю._"
   ]
  },
  {
   "cell_type": "code",
   "execution_count": 42,
   "id": "353f4cf2-e5f6-4f8e-b00f-944c823ab56a",
   "metadata": {},
   "outputs": [],
   "source": [
    "dict_purpose = {purpose: purpose_standart(purpose) for purpose in df['purpose'].unique()} #создадим словарь с шаблонными целямя для кредита \n",
    "                                                                                          #ключ-описание цели кредита в исходной таблице\n",
    "                                                                                          #значение-преобразованная цель кредита"
   ]
  },
  {
   "cell_type": "code",
   "execution_count": 43,
   "id": "32e07422-0005-4126-8318-04b2e29c4a56",
   "metadata": {},
   "outputs": [],
   "source": [
    "df['purpose'] = df['purpose'].apply(lambda x: dict_purpose[x])"
   ]
  },
  {
   "cell_type": "code",
   "execution_count": 44,
   "id": "d641de04-c09a-4e50-bdbc-5efb064916e8",
   "metadata": {
    "scrolled": true
   },
   "outputs": [
    {
     "data": {
      "text/plain": [
       "array(['операции с недвижимостью', 'операции с автомобилем',\n",
       "       'получение образования', 'проведение свадьбы'], dtype=object)"
      ]
     },
     "execution_count": 44,
     "metadata": {},
     "output_type": "execute_result"
    }
   ],
   "source": [
    "df['purpose'].unique()"
   ]
  },
  {
   "cell_type": "markdown",
   "id": "a064d92f-a887-47c9-9cb8-4c792dd76206",
   "metadata": {},
   "source": [
    "### Изменение типов данных"
   ]
  },
  {
   "cell_type": "code",
   "execution_count": 45,
   "id": "ffef71e8-c89d-4cd3-8afd-c0d702adb44e",
   "metadata": {},
   "outputs": [],
   "source": [
    "df = df.astype({'days_employed': int, 'dob_years': int, 'total_income': int})"
   ]
  },
  {
   "cell_type": "markdown",
   "id": "e4fb3f78-7c7f-48b2-bd3a-ec62b6cefdcd",
   "metadata": {},
   "source": [
    "### Разбиение клиентов на категории по уровню дорхода(E, D, C, B, A)"
   ]
  },
  {
   "cell_type": "code",
   "execution_count": 46,
   "id": "ddd7049c-692b-489d-858e-71dbcaf4fbe3",
   "metadata": {},
   "outputs": [],
   "source": [
    "df['income_group'] = pd.Series(pd.cut(df['total_income'], bins=[0, 60001, 120001, 200001, 600001, 2500001], labels=['E', 'D', 'C', 'B', 'A']))"
   ]
  },
  {
   "cell_type": "markdown",
   "id": "63f052b1-67ea-4e05-b97d-d8589f4f2c11",
   "metadata": {},
   "source": [
    "### Определение налячия зависимости наличия детей и возвратом кредита в срок"
   ]
  },
  {
   "cell_type": "markdown",
   "id": "a286d4fc-f52f-43e2-88fe-02ae2267d5ce",
   "metadata": {},
   "source": [
    "_Сделаем сводную таблицу по количеству детей  \n",
    "Посчитаем в ней количество клиентов имевших просроченную задолженость, общее количество, и процент задолжавших_"
   ]
  },
  {
   "cell_type": "code",
   "execution_count": 47,
   "id": "fcf5ff60-e975-452f-ac1c-1d4d0f8471fe",
   "metadata": {},
   "outputs": [
    {
     "data": {
      "text/html": [
       "<style  type=\"text/css\" >\n",
       "</style><table id=\"T_ee906_\" ><thead>    <tr>        <th class=\"blank level0\" ></th>        <th class=\"col_heading level0 col0\" >children</th>        <th class=\"col_heading level0 col1\" >bad_debt</th>        <th class=\"col_heading level0 col2\" >all_debt</th>        <th class=\"col_heading level0 col3\" >value_%</th>    </tr></thead><tbody>\n",
       "                <tr>\n",
       "                        <th id=\"T_ee906_level0_row0\" class=\"row_heading level0 row0\" >0</th>\n",
       "                        <td id=\"T_ee906_row0_col0\" class=\"data row0 col0\" >0</td>\n",
       "                        <td id=\"T_ee906_row0_col1\" class=\"data row0 col1\" >1063</td>\n",
       "                        <td id=\"T_ee906_row0_col2\" class=\"data row0 col2\" >14082</td>\n",
       "                        <td id=\"T_ee906_row0_col3\" class=\"data row0 col3\" >7.5%</td>\n",
       "            </tr>\n",
       "            <tr>\n",
       "                        <th id=\"T_ee906_level0_row1\" class=\"row_heading level0 row1\" >1</th>\n",
       "                        <td id=\"T_ee906_row1_col0\" class=\"data row1 col0\" >1</td>\n",
       "                        <td id=\"T_ee906_row1_col1\" class=\"data row1 col1\" >444</td>\n",
       "                        <td id=\"T_ee906_row1_col2\" class=\"data row1 col2\" >4807</td>\n",
       "                        <td id=\"T_ee906_row1_col3\" class=\"data row1 col3\" >9.2%</td>\n",
       "            </tr>\n",
       "            <tr>\n",
       "                        <th id=\"T_ee906_level0_row2\" class=\"row_heading level0 row2\" >2</th>\n",
       "                        <td id=\"T_ee906_row2_col0\" class=\"data row2 col0\" >2</td>\n",
       "                        <td id=\"T_ee906_row2_col1\" class=\"data row2 col1\" >194</td>\n",
       "                        <td id=\"T_ee906_row2_col2\" class=\"data row2 col2\" >2052</td>\n",
       "                        <td id=\"T_ee906_row2_col3\" class=\"data row2 col3\" >9.5%</td>\n",
       "            </tr>\n",
       "            <tr>\n",
       "                        <th id=\"T_ee906_level0_row3\" class=\"row_heading level0 row3\" >3</th>\n",
       "                        <td id=\"T_ee906_row3_col0\" class=\"data row3 col0\" >3</td>\n",
       "                        <td id=\"T_ee906_row3_col1\" class=\"data row3 col1\" >27</td>\n",
       "                        <td id=\"T_ee906_row3_col2\" class=\"data row3 col2\" >329</td>\n",
       "                        <td id=\"T_ee906_row3_col3\" class=\"data row3 col3\" >8.2%</td>\n",
       "            </tr>\n",
       "            <tr>\n",
       "                        <th id=\"T_ee906_level0_row4\" class=\"row_heading level0 row4\" >4</th>\n",
       "                        <td id=\"T_ee906_row4_col0\" class=\"data row4 col0\" >4</td>\n",
       "                        <td id=\"T_ee906_row4_col1\" class=\"data row4 col1\" >4</td>\n",
       "                        <td id=\"T_ee906_row4_col2\" class=\"data row4 col2\" >41</td>\n",
       "                        <td id=\"T_ee906_row4_col3\" class=\"data row4 col3\" >9.8%</td>\n",
       "            </tr>\n",
       "            <tr>\n",
       "                        <th id=\"T_ee906_level0_row5\" class=\"row_heading level0 row5\" >5</th>\n",
       "                        <td id=\"T_ee906_row5_col0\" class=\"data row5 col0\" >5</td>\n",
       "                        <td id=\"T_ee906_row5_col1\" class=\"data row5 col1\" >0</td>\n",
       "                        <td id=\"T_ee906_row5_col2\" class=\"data row5 col2\" >9</td>\n",
       "                        <td id=\"T_ee906_row5_col3\" class=\"data row5 col3\" >0.0%</td>\n",
       "            </tr>\n",
       "    </tbody></table>"
      ],
      "text/plain": [
       "<pandas.io.formats.style.Styler at 0x2036dc5e160>"
      ]
     },
     "execution_count": 47,
     "metadata": {},
     "output_type": "execute_result"
    }
   ],
   "source": [
    "df.pivot_table(index='children', values='debt', aggfunc=['sum', 'count', 'mean']).reset_index() \\\n",
    "    .set_axis(['children', 'bad_debt', 'all_debt', 'value_%'], axis='columns').style.format({'value_%': '{:.1%}'})"
   ]
  },
  {
   "cell_type": "markdown",
   "id": "f4a8eabc-ebff-45c9-870b-e2021b52929e",
   "metadata": {},
   "source": [
    "_Для категории с 5 детьми наш низкий % скорее всего обуславливается недостаточным количеством наблюдений в выборке  \n",
    "Для остальных наблюдается повышение общего тренда задержек с увеличением количества детей_ "
   ]
  },
  {
   "cell_type": "markdown",
   "id": "19740499-c0e4-4f7a-8772-6835e32d2af3",
   "metadata": {},
   "source": [
    "### Определение зависимости между семейным положением и возвратом кредита в срок"
   ]
  },
  {
   "cell_type": "markdown",
   "id": "d5f3dd65-2e9b-481c-b53f-6a5cbd2b553f",
   "metadata": {},
   "source": [
    "_Сводная таблица по семейному положению_"
   ]
  },
  {
   "cell_type": "code",
   "execution_count": 48,
   "id": "5a72a9e7-a440-4d3f-b3c1-c96ab2a2ba50",
   "metadata": {},
   "outputs": [
    {
     "data": {
      "text/html": [
       "<style  type=\"text/css\" >\n",
       "</style><table id=\"T_b7d2a_\" ><thead>    <tr>        <th class=\"blank level0\" ></th>        <th class=\"col_heading level0 col0\" >family_status</th>        <th class=\"col_heading level0 col1\" >bad_debt</th>        <th class=\"col_heading level0 col2\" >all_debt</th>        <th class=\"col_heading level0 col3\" >value_%</th>    </tr></thead><tbody>\n",
       "                <tr>\n",
       "                        <th id=\"T_b7d2a_level0_row0\" class=\"row_heading level0 row0\" >0</th>\n",
       "                        <td id=\"T_b7d2a_row0_col0\" class=\"data row0 col0\" >Не женат / не замужем</td>\n",
       "                        <td id=\"T_b7d2a_row0_col1\" class=\"data row0 col1\" >273</td>\n",
       "                        <td id=\"T_b7d2a_row0_col2\" class=\"data row0 col2\" >2795</td>\n",
       "                        <td id=\"T_b7d2a_row0_col3\" class=\"data row0 col3\" >9.8%</td>\n",
       "            </tr>\n",
       "            <tr>\n",
       "                        <th id=\"T_b7d2a_level0_row1\" class=\"row_heading level0 row1\" >1</th>\n",
       "                        <td id=\"T_b7d2a_row1_col0\" class=\"data row1 col0\" >в разводе</td>\n",
       "                        <td id=\"T_b7d2a_row1_col1\" class=\"data row1 col1\" >84</td>\n",
       "                        <td id=\"T_b7d2a_row1_col2\" class=\"data row1 col2\" >1188</td>\n",
       "                        <td id=\"T_b7d2a_row1_col3\" class=\"data row1 col3\" >7.1%</td>\n",
       "            </tr>\n",
       "            <tr>\n",
       "                        <th id=\"T_b7d2a_level0_row2\" class=\"row_heading level0 row2\" >2</th>\n",
       "                        <td id=\"T_b7d2a_row2_col0\" class=\"data row2 col0\" >вдовец / вдова</td>\n",
       "                        <td id=\"T_b7d2a_row2_col1\" class=\"data row2 col1\" >63</td>\n",
       "                        <td id=\"T_b7d2a_row2_col2\" class=\"data row2 col2\" >950</td>\n",
       "                        <td id=\"T_b7d2a_row2_col3\" class=\"data row2 col3\" >6.6%</td>\n",
       "            </tr>\n",
       "            <tr>\n",
       "                        <th id=\"T_b7d2a_level0_row3\" class=\"row_heading level0 row3\" >3</th>\n",
       "                        <td id=\"T_b7d2a_row3_col0\" class=\"data row3 col0\" >гражданский брак</td>\n",
       "                        <td id=\"T_b7d2a_row3_col1\" class=\"data row3 col1\" >385</td>\n",
       "                        <td id=\"T_b7d2a_row3_col2\" class=\"data row3 col2\" >4130</td>\n",
       "                        <td id=\"T_b7d2a_row3_col3\" class=\"data row3 col3\" >9.3%</td>\n",
       "            </tr>\n",
       "            <tr>\n",
       "                        <th id=\"T_b7d2a_level0_row4\" class=\"row_heading level0 row4\" >4</th>\n",
       "                        <td id=\"T_b7d2a_row4_col0\" class=\"data row4 col0\" >женат / замужем</td>\n",
       "                        <td id=\"T_b7d2a_row4_col1\" class=\"data row4 col1\" >927</td>\n",
       "                        <td id=\"T_b7d2a_row4_col2\" class=\"data row4 col2\" >12257</td>\n",
       "                        <td id=\"T_b7d2a_row4_col3\" class=\"data row4 col3\" >7.6%</td>\n",
       "            </tr>\n",
       "    </tbody></table>"
      ],
      "text/plain": [
       "<pandas.io.formats.style.Styler at 0x2036eec3820>"
      ]
     },
     "execution_count": 48,
     "metadata": {},
     "output_type": "execute_result"
    }
   ],
   "source": [
    "df.pivot_table(index='family_status', values='debt', aggfunc=['sum', 'count', 'mean']).reset_index() \\\n",
    "    .set_axis(['family_status', 'bad_debt', 'all_debt', 'value_%'], axis='columns').style.format({'value_%': '{:.1%}'})"
   ]
  },
  {
   "cell_type": "markdown",
   "id": "140b5fc4-fe33-4abb-a095-ca04f3400e63",
   "metadata": {},
   "source": [
    "_Видно, что наиболее надежные заемщики те кто находятся, либо находились в законном браке  \n",
    "Самы низкий % задержек у вдовцов/вдов, возможно потому что как правило вдовцы/вдовы пожилые люди_ "
   ]
  },
  {
   "cell_type": "markdown",
   "id": "9b40c8a9-88f4-4b6f-90a9-e40ffca2e53f",
   "metadata": {},
   "source": [
    "### Определение зависимости между уровнем дохода и возвратом кредита в срок"
   ]
  },
  {
   "cell_type": "markdown",
   "id": "d3b8cac6-f772-4e8d-887a-7d4173eb92da",
   "metadata": {},
   "source": [
    "_Сводная таблица по уровню дохода_"
   ]
  },
  {
   "cell_type": "code",
   "execution_count": 49,
   "id": "1294fb43-69de-40cc-bfa5-6af3f7825696",
   "metadata": {},
   "outputs": [
    {
     "data": {
      "text/html": [
       "<style  type=\"text/css\" >\n",
       "</style><table id=\"T_378a7_\" ><thead>    <tr>        <th class=\"blank level0\" ></th>        <th class=\"col_heading level0 col0\" >income_group</th>        <th class=\"col_heading level0 col1\" >bad_debt</th>        <th class=\"col_heading level0 col2\" >all_debt</th>        <th class=\"col_heading level0 col3\" >value_%</th>    </tr></thead><tbody>\n",
       "                <tr>\n",
       "                        <th id=\"T_378a7_level0_row0\" class=\"row_heading level0 row0\" >0</th>\n",
       "                        <td id=\"T_378a7_row0_col0\" class=\"data row0 col0\" >E</td>\n",
       "                        <td id=\"T_378a7_row0_col1\" class=\"data row0 col1\" >49</td>\n",
       "                        <td id=\"T_378a7_row0_col2\" class=\"data row0 col2\" >801</td>\n",
       "                        <td id=\"T_378a7_row0_col3\" class=\"data row0 col3\" >6.1%</td>\n",
       "            </tr>\n",
       "            <tr>\n",
       "                        <th id=\"T_378a7_level0_row1\" class=\"row_heading level0 row1\" >1</th>\n",
       "                        <td id=\"T_378a7_row1_col0\" class=\"data row1 col0\" >D</td>\n",
       "                        <td id=\"T_378a7_row1_col1\" class=\"data row1 col1\" >531</td>\n",
       "                        <td id=\"T_378a7_row1_col2\" class=\"data row1 col2\" >6333</td>\n",
       "                        <td id=\"T_378a7_row1_col3\" class=\"data row1 col3\" >8.4%</td>\n",
       "            </tr>\n",
       "            <tr>\n",
       "                        <th id=\"T_378a7_level0_row2\" class=\"row_heading level0 row2\" >2</th>\n",
       "                        <td id=\"T_378a7_row2_col0\" class=\"data row2 col0\" >C</td>\n",
       "                        <td id=\"T_378a7_row2_col1\" class=\"data row2 col1\" >788</td>\n",
       "                        <td id=\"T_378a7_row2_col2\" class=\"data row2 col2\" >8965</td>\n",
       "                        <td id=\"T_378a7_row2_col3\" class=\"data row2 col3\" >8.8%</td>\n",
       "            </tr>\n",
       "            <tr>\n",
       "                        <th id=\"T_378a7_level0_row3\" class=\"row_heading level0 row3\" >3</th>\n",
       "                        <td id=\"T_378a7_row3_col0\" class=\"data row3 col0\" >B</td>\n",
       "                        <td id=\"T_378a7_row3_col1\" class=\"data row3 col1\" >356</td>\n",
       "                        <td id=\"T_378a7_row3_col2\" class=\"data row3 col2\" >5112</td>\n",
       "                        <td id=\"T_378a7_row3_col3\" class=\"data row3 col3\" >7.0%</td>\n",
       "            </tr>\n",
       "            <tr>\n",
       "                        <th id=\"T_378a7_level0_row4\" class=\"row_heading level0 row4\" >4</th>\n",
       "                        <td id=\"T_378a7_row4_col0\" class=\"data row4 col0\" >A</td>\n",
       "                        <td id=\"T_378a7_row4_col1\" class=\"data row4 col1\" >8</td>\n",
       "                        <td id=\"T_378a7_row4_col2\" class=\"data row4 col2\" >109</td>\n",
       "                        <td id=\"T_378a7_row4_col3\" class=\"data row4 col3\" >7.3%</td>\n",
       "            </tr>\n",
       "    </tbody></table>"
      ],
      "text/plain": [
       "<pandas.io.formats.style.Styler at 0x2036f4ed040>"
      ]
     },
     "execution_count": 49,
     "metadata": {},
     "output_type": "execute_result"
    }
   ],
   "source": [
    "df.pivot_table(index='income_group', values='debt', aggfunc=['sum', 'count', 'mean']).reset_index() \\\n",
    "    .set_axis(['income_group', 'bad_debt', 'all_debt', 'value_%'], axis='columns').style.format({'value_%': '{:.1%}'})"
   ]
  },
  {
   "cell_type": "markdown",
   "id": "eb55f567-6fa2-48bb-b616-a7fa7e6727f8",
   "metadata": {},
   "source": [
    "_Линейной зависимости не наблюдается, скорее всего зависимость сложнее т.к. категория клиентов с самым низким доходом имеет меньше задержек чем остальные, возможно это связано с небольшой суммой кредитов_"
   ]
  },
  {
   "cell_type": "markdown",
   "id": "2f162f9e-6e6d-4197-bf0e-069c908ca79a",
   "metadata": {},
   "source": [
    "### Определение зависимости между целями кредита и возвратом кредита в срок"
   ]
  },
  {
   "cell_type": "code",
   "execution_count": 50,
   "id": "b261482b-2f64-406c-8195-7a97781bea75",
   "metadata": {},
   "outputs": [
    {
     "data": {
      "text/html": [
       "<style  type=\"text/css\" >\n",
       "</style><table id=\"T_dc63a_\" ><thead>    <tr>        <th class=\"blank level0\" ></th>        <th class=\"col_heading level0 col0\" >income_group</th>        <th class=\"col_heading level0 col1\" >bad_debt</th>        <th class=\"col_heading level0 col2\" >all_debt</th>        <th class=\"col_heading level0 col3\" >value_%</th>    </tr></thead><tbody>\n",
       "                <tr>\n",
       "                        <th id=\"T_dc63a_level0_row0\" class=\"row_heading level0 row0\" >0</th>\n",
       "                        <td id=\"T_dc63a_row0_col0\" class=\"data row0 col0\" >операции с автомобилем</td>\n",
       "                        <td id=\"T_dc63a_row0_col1\" class=\"data row0 col1\" >400</td>\n",
       "                        <td id=\"T_dc63a_row0_col2\" class=\"data row0 col2\" >4279</td>\n",
       "                        <td id=\"T_dc63a_row0_col3\" class=\"data row0 col3\" >9.3%</td>\n",
       "            </tr>\n",
       "            <tr>\n",
       "                        <th id=\"T_dc63a_level0_row1\" class=\"row_heading level0 row1\" >1</th>\n",
       "                        <td id=\"T_dc63a_row1_col0\" class=\"data row1 col0\" >операции с недвижимостью</td>\n",
       "                        <td id=\"T_dc63a_row1_col1\" class=\"data row1 col1\" >780</td>\n",
       "                        <td id=\"T_dc63a_row1_col2\" class=\"data row1 col2\" >10742</td>\n",
       "                        <td id=\"T_dc63a_row1_col3\" class=\"data row1 col3\" >7.3%</td>\n",
       "            </tr>\n",
       "            <tr>\n",
       "                        <th id=\"T_dc63a_level0_row2\" class=\"row_heading level0 row2\" >2</th>\n",
       "                        <td id=\"T_dc63a_row2_col0\" class=\"data row2 col0\" >получение образования</td>\n",
       "                        <td id=\"T_dc63a_row2_col1\" class=\"data row2 col1\" >369</td>\n",
       "                        <td id=\"T_dc63a_row2_col2\" class=\"data row2 col2\" >3988</td>\n",
       "                        <td id=\"T_dc63a_row2_col3\" class=\"data row2 col3\" >9.3%</td>\n",
       "            </tr>\n",
       "            <tr>\n",
       "                        <th id=\"T_dc63a_level0_row3\" class=\"row_heading level0 row3\" >3</th>\n",
       "                        <td id=\"T_dc63a_row3_col0\" class=\"data row3 col0\" >проведение свадьбы</td>\n",
       "                        <td id=\"T_dc63a_row3_col1\" class=\"data row3 col1\" >183</td>\n",
       "                        <td id=\"T_dc63a_row3_col2\" class=\"data row3 col2\" >2311</td>\n",
       "                        <td id=\"T_dc63a_row3_col3\" class=\"data row3 col3\" >7.9%</td>\n",
       "            </tr>\n",
       "    </tbody></table>"
      ],
      "text/plain": [
       "<pandas.io.formats.style.Styler at 0x2036dc014f0>"
      ]
     },
     "execution_count": 50,
     "metadata": {},
     "output_type": "execute_result"
    }
   ],
   "source": [
    "df.pivot_table(index='purpose', values='debt', aggfunc=['sum', 'count', 'mean']).reset_index() \\\n",
    "    .set_axis(['income_group', 'bad_debt', 'all_debt', 'value_%'], axis='columns').style.format({'value_%': '{:.1%}'})"
   ]
  },
  {
   "cell_type": "markdown",
   "id": "5ececd55-2833-43ac-b25e-4c685f3698f1",
   "metadata": {},
   "source": [
    "_Кредиты на операции с недвижимостью менее проблемны чем на другие цели_"
   ]
  },
  {
   "cell_type": "markdown",
   "id": "40cb5333-f253-4f4b-9d56-c89f6862b938",
   "metadata": {},
   "source": [
    "### Итог"
   ]
  },
  {
   "cell_type": "markdown",
   "id": "46c7518a-a070-4498-8307-26f105b4bedb",
   "metadata": {},
   "source": [
    "В данной работе с выгруженными данными были проведены следующие операции: \n",
    "- изучение признаков  \n",
    "- проведен анализ появления аномалий в данных и их исправление  \n",
    "- исправление нулевых значений, где их не должно быть, заполнение пропусков\n",
    "- избавление от дубликатов\n",
    "- с помощью лемматизации унифицировали категории целей кредита\n",
    "- категоризовали клиентов по уровню дохода  \n",
    "\n",
    "Нашли разницу в долях проблемных кредитов разделенных по категориям:\n",
    "- количество детей\n",
    "- семейное положение\n",
    "- уровень дохода\n",
    "- цели кредита"
   ]
  },
  {
   "cell_type": "code",
   "execution_count": null,
   "id": "50a551f9-c5f7-44dd-bf61-1b5daafc11a4",
   "metadata": {},
   "outputs": [],
   "source": []
  }
 ],
 "metadata": {
  "kernelspec": {
   "display_name": "Python 3 (ipykernel)",
   "language": "python",
   "name": "python3"
  },
  "language_info": {
   "codemirror_mode": {
    "name": "ipython",
    "version": 3
   },
   "file_extension": ".py",
   "mimetype": "text/x-python",
   "name": "python",
   "nbconvert_exporter": "python",
   "pygments_lexer": "ipython3",
   "version": "3.11.5"
  }
 },
 "nbformat": 4,
 "nbformat_minor": 5
}
